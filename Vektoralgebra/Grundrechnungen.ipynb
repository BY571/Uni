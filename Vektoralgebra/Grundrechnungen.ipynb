{
 "cells": [
  {
   "cell_type": "code",
   "execution_count": 1,
   "metadata": {
    "collapsed": true
   },
   "outputs": [],
   "source": [
    "# Vektorrechnung in Python \n",
    "# hier werden die Grundvektorrechnungen in Pyhton mit np gezeigt\n",
    "\n",
    "import numpy as np\n",
    "import matplotlib as plt\n",
    "\n",
    "#die beiden 2D Vektoren\n",
    "a = np.array([1,2])\n",
    "b=np.array([3,4])"
   ]
  },
  {
   "cell_type": "code",
   "execution_count": 2,
   "metadata": {
    "collapsed": true
   },
   "outputs": [],
   "source": [
    "#Das Skalarprodukt \n",
    "c=a.dot(b)\n",
    "d=b.dot(a)\n",
    "#oder das Innere Produkt (andere Bezeichnung für Skalar)\n",
    "c= np.inner(a,b)\n",
    "\n",
    "#das äußere Produkt\n",
    "f= np.outer(a,b)\n",
    "\n",
    "#der Betrag eines Vektors \n",
    "betrag = np.linalg.norm(a)\n",
    "\n",
    "#der cosinus zwischen zwei vektoren:  a*b/(|a|*|b|)    - das skalar durch den betrag beider vektoren\n",
    "cos_a = a.dot(b)/(np.linalg.norm(a)*np.linalg.norm(b))\n",
    "#der Winkel zwischen den Vektoren\n",
    "angle=np.arccos(cos_a)\n",
    "#print(cos_a)\n",
    "#rint(angle)\n",
    "\n"
   ]
  },
  {
   "cell_type": "code",
   "execution_count": 3,
   "metadata": {
    "collapsed": true
   },
   "outputs": [],
   "source": [
    "#Matrix darstellung\n",
    "\n",
    "M = np.array([[1,2],[3,4]])\n",
    "\n",
    "##Es gibt auch eine Darstellung direkt für Matrix aber die Darstellung in einem einfachen Array ist üblicher (und schneller?)\n",
    "#M2=np.matrix([[1,2],[3,4]])\n",
    "\n",
    "\n",
    "M_2 = np.array([[2,1],[4,3]])\n",
    "\n",
    "##Multiplikation Index mit Index\n",
    "#M_multi= M*M_2\n",
    "\n",
    "\n",
    "#Richtige Matrix Multiplikation \n",
    "M_dot = M.dot(M_2)\n",
    "\n",
    "#Inverse Matrix\n",
    "Minvers= np.linalg.inv(M_2)\n",
    "\n",
    "#Determinante der Matrix   bei einer Matrix [ab],[cd] det= ad-cb\n",
    "mdeter= np.linalg.det(M_2)\n",
    "\n",
    "\n",
    "#Nur die Hauptdiagonalen Elemente der Rest =0\n",
    "mdiag = np.diag(M_2)\n",
    "\n",
    "#Erstellen einer Matrix nur mit der Hauptdiagonalen Einträgen gehr mit selben Befehl:\n",
    "e = np.diag([1,2,3])\n",
    "#ergibt eine Matrix mit der Diagonalen 1,2,3\n",
    "\n",
    "#Die Summe der Hauptdiagonalen einer Matrix\n",
    "diagsum = np.trace(M_2)\n",
    "\n",
    "#Transponieren einer Matrix- Befehlt: \".T\"\n",
    "#print(M.T)\n",
    "\n",
    "#Eigenwerte einer Matrix- das erste Touple sind die Eigenwerte die anderen die eigenvektoren\n",
    "eig=np.linalg.eig(M)\n",
    "\n",
    "#Eigenvektor \n",
    "eigv=np.linalg.eigh(M)\n",
    "\n",
    "\n",
    "#Lösen eines einfachen häufigen Problems: \n",
    "    # Ax=b     normal Ax*invA = b*invA -> x = b*invA\n",
    "#np hat eine einfache Formel dafür \n",
    "b= np.array([1,2])\n",
    "A= np.array([[1,2],[3,4]])\n",
    "x= np.linalg.solve(A,b)\n"
   ]
  },
  {
   "cell_type": "code",
   "execution_count": 4,
   "metadata": {},
   "outputs": [
    {
     "data": {
      "text/plain": [
       "0.30797670990570752"
      ]
     },
     "execution_count": 4,
     "metadata": {},
     "output_type": "execute_result"
    }
   ],
   "source": [
    "#Allgemein nützliche Befehle\n",
    "#Vektor mit bestimmter Anzahl an Nullen\n",
    "#hier 10 Nullen. gleiches geht mir \"ones\" statt \"zeros\"\n",
    "Z= np.zeros(10)\n",
    "#print(Z)\n",
    "\n",
    "#Eine Matrix mit 10 mal 10 nullen\n",
    "M_Z=np.zeros((10,10))\n",
    "#print(M_Z)\n",
    "\n",
    "M_random= np.random.random((10,10))\n",
    "#print(M_random)\n",
    "\n",
    "#gibt den Mittelwert, die Varianz und die Standardabweichung an! \n",
    "M_random.mean()\n",
    "M_random.var()\n",
    "M_random.std()\n",
    "#print(M_random.mean(),M_random.var(),M_random.std()) "
   ]
  }
 ],
 "metadata": {
  "kernelspec": {
   "display_name": "Python 3",
   "language": "python",
   "name": "python3"
  },
  "language_info": {
   "codemirror_mode": {
    "name": "ipython",
    "version": 3
   },
   "file_extension": ".py",
   "mimetype": "text/x-python",
   "name": "python",
   "nbconvert_exporter": "python",
   "pygments_lexer": "ipython3",
   "version": "3.6.1"
  }
 },
 "nbformat": 4,
 "nbformat_minor": 2
}
